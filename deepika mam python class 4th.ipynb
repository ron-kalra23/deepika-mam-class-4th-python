{
 "cells": [
  {
   "cell_type": "markdown",
   "id": "d71532e4",
   "metadata": {},
   "source": [
    "# Dictionary"
   ]
  },
  {
   "cell_type": "markdown",
   "id": "8d805b23",
   "metadata": {},
   "source": [
    "key and value"
   ]
  },
  {
   "cell_type": "markdown",
   "id": "aecd93c4",
   "metadata": {},
   "source": [
    "dict1 = {key1:value1 , ley2:value2 , key3:value3}"
   ]
  },
  {
   "cell_type": "code",
   "execution_count": 2,
   "id": "4ee20f3d",
   "metadata": {},
   "outputs": [],
   "source": [
    "#keys are columns name basically and values are values for that columns "
   ]
  },
  {
   "cell_type": "code",
   "execution_count": 14,
   "id": "1e179c9d",
   "metadata": {},
   "outputs": [],
   "source": [
    "dict1 = {'id':1 , 'name':'Rohan' , 'class': 'sec'}"
   ]
  },
  {
   "cell_type": "code",
   "execution_count": 15,
   "id": "c66bf49c",
   "metadata": {},
   "outputs": [
    {
     "data": {
      "text/plain": [
       "{'id': 1, 'name': 'Rohan', 'class': 'sec'}"
      ]
     },
     "execution_count": 15,
     "metadata": {},
     "output_type": "execute_result"
    }
   ],
   "source": [
    "dict1"
   ]
  },
  {
   "cell_type": "code",
   "execution_count": 16,
   "id": "553368fc",
   "metadata": {},
   "outputs": [
    {
     "data": {
      "text/plain": [
       "dict_keys(['id', 'name', 'class'])"
      ]
     },
     "execution_count": 16,
     "metadata": {},
     "output_type": "execute_result"
    }
   ],
   "source": [
    "dict1.keys()  # to know all the keys "
   ]
  },
  {
   "cell_type": "code",
   "execution_count": 18,
   "id": "18e69b94",
   "metadata": {},
   "outputs": [
    {
     "data": {
      "text/plain": [
       "dict_values([1, 'Rohan', 'sec'])"
      ]
     },
     "execution_count": 18,
     "metadata": {},
     "output_type": "execute_result"
    }
   ],
   "source": [
    "dict1.values() # to know all the values"
   ]
  },
  {
   "cell_type": "code",
   "execution_count": 19,
   "id": "a8b2f36b",
   "metadata": {},
   "outputs": [
    {
     "data": {
      "text/plain": [
       "dict_items([('id', 1), ('name', 'Rohan'), ('class', 'sec')])"
      ]
     },
     "execution_count": 19,
     "metadata": {},
     "output_type": "execute_result"
    }
   ],
   "source": [
    "dict1.items() #to know all the items "
   ]
  },
  {
   "cell_type": "code",
   "execution_count": 20,
   "id": "a2e99d89",
   "metadata": {},
   "outputs": [
    {
     "data": {
      "text/plain": [
       "1"
      ]
     },
     "execution_count": 20,
     "metadata": {},
     "output_type": "execute_result"
    }
   ],
   "source": [
    "dict['id']"
   ]
  },
  {
   "cell_type": "code",
   "execution_count": 21,
   "id": "8fd893de",
   "metadata": {},
   "outputs": [
    {
     "data": {
      "text/plain": [
       "'Rohan'"
      ]
     },
     "execution_count": 21,
     "metadata": {},
     "output_type": "execute_result"
    }
   ],
   "source": [
    "dict['name']"
   ]
  },
  {
   "cell_type": "code",
   "execution_count": 23,
   "id": "7ee1962c",
   "metadata": {},
   "outputs": [
    {
     "data": {
      "text/plain": [
       "'sec'"
      ]
     },
     "execution_count": 23,
     "metadata": {},
     "output_type": "execute_result"
    }
   ],
   "source": [
    "dict1['class']"
   ]
  },
  {
   "cell_type": "code",
   "execution_count": 27,
   "id": "6594a911",
   "metadata": {},
   "outputs": [],
   "source": [
    "dict1['class'] = '2nd'   #updating value in ditionaries"
   ]
  },
  {
   "cell_type": "code",
   "execution_count": 25,
   "id": "3a5d1627",
   "metadata": {},
   "outputs": [
    {
     "data": {
      "text/plain": [
       "{'id': 1, 'name': 'Rohan', 'class': '2nd'}"
      ]
     },
     "execution_count": 25,
     "metadata": {},
     "output_type": "execute_result"
    }
   ],
   "source": [
    "dict1"
   ]
  },
  {
   "cell_type": "code",
   "execution_count": 28,
   "id": "b5dede27",
   "metadata": {},
   "outputs": [],
   "source": [
    "dict1['age'] = 25 # adding a new key and its value"
   ]
  },
  {
   "cell_type": "code",
   "execution_count": 29,
   "id": "eb39512c",
   "metadata": {},
   "outputs": [
    {
     "data": {
      "text/plain": [
       "{'id': 1, 'name': 'Rohan', 'class': '2nd', 'age': 25}"
      ]
     },
     "execution_count": 29,
     "metadata": {},
     "output_type": "execute_result"
    }
   ],
   "source": [
    "dict1"
   ]
  },
  {
   "cell_type": "code",
   "execution_count": 31,
   "id": "eaf79f9e",
   "metadata": {},
   "outputs": [],
   "source": [
    "dict1.update({'Salary':56000}) #another way of adding a key and its value"
   ]
  },
  {
   "cell_type": "code",
   "execution_count": 32,
   "id": "b3484ecb",
   "metadata": {},
   "outputs": [
    {
     "data": {
      "text/plain": [
       "{'id': 1, 'name': 'Rohan', 'class': '2nd', 'age': 25, 'Salary': 56000}"
      ]
     },
     "execution_count": 32,
     "metadata": {},
     "output_type": "execute_result"
    }
   ],
   "source": [
    "dict1"
   ]
  },
  {
   "cell_type": "code",
   "execution_count": 35,
   "id": "d24f7bef",
   "metadata": {},
   "outputs": [
    {
     "data": {
      "text/plain": [
       "56000"
      ]
     },
     "execution_count": 35,
     "metadata": {},
     "output_type": "execute_result"
    }
   ],
   "source": [
    "dict1['Salary']"
   ]
  },
  {
   "cell_type": "code",
   "execution_count": 36,
   "id": "8bc1f872",
   "metadata": {},
   "outputs": [],
   "source": [
    "dict1['Salary'] = 78000"
   ]
  },
  {
   "cell_type": "code",
   "execution_count": 37,
   "id": "d9380b5e",
   "metadata": {},
   "outputs": [
    {
     "data": {
      "text/plain": [
       "{'id': 1, 'name': 'Rohan', 'class': '2nd', 'age': 25, 'Salary': 78000}"
      ]
     },
     "execution_count": 37,
     "metadata": {},
     "output_type": "execute_result"
    }
   ],
   "source": [
    "dict1"
   ]
  },
  {
   "cell_type": "code",
   "execution_count": 38,
   "id": "be2730a7",
   "metadata": {},
   "outputs": [
    {
     "data": {
      "text/plain": [
       "{'id': 1, 'name': 'Rohan', 'class': '2nd', 'age': 25, 'Salary': 78000}"
      ]
     },
     "execution_count": 38,
     "metadata": {},
     "output_type": "execute_result"
    }
   ],
   "source": [
    "dict1"
   ]
  },
  {
   "cell_type": "code",
   "execution_count": 39,
   "id": "bad54adc",
   "metadata": {},
   "outputs": [
    {
     "data": {
      "text/plain": [
       "25"
      ]
     },
     "execution_count": 39,
     "metadata": {},
     "output_type": "execute_result"
    }
   ],
   "source": [
    "dict1.pop('age')  # to pop up we need to give the key , remove function is not in the list"
   ]
  },
  {
   "cell_type": "code",
   "execution_count": 40,
   "id": "ac9b6279",
   "metadata": {},
   "outputs": [
    {
     "data": {
      "text/plain": [
       "{'id': 1, 'name': 'Rohan', 'class': '2nd', 'Salary': 78000}"
      ]
     },
     "execution_count": 40,
     "metadata": {},
     "output_type": "execute_result"
    }
   ],
   "source": [
    "dict1"
   ]
  },
  {
   "cell_type": "code",
   "execution_count": 42,
   "id": "9184516d",
   "metadata": {},
   "outputs": [
    {
     "data": {
      "text/plain": [
       "1"
      ]
     },
     "execution_count": 42,
     "metadata": {},
     "output_type": "execute_result"
    }
   ],
   "source": [
    "dict1.pop('id')"
   ]
  },
  {
   "cell_type": "code",
   "execution_count": 43,
   "id": "5a71833d",
   "metadata": {},
   "outputs": [],
   "source": [
    "dict1['id'] = 12"
   ]
  },
  {
   "cell_type": "code",
   "execution_count": 44,
   "id": "7c2cf4fd",
   "metadata": {},
   "outputs": [
    {
     "data": {
      "text/plain": [
       "{'name': 'Rohan', 'class': '2nd', 'Salary': 78000, 'id': 12}"
      ]
     },
     "execution_count": 44,
     "metadata": {},
     "output_type": "execute_result"
    }
   ],
   "source": [
    "dict1"
   ]
  },
  {
   "cell_type": "code",
   "execution_count": 46,
   "id": "338af4d9",
   "metadata": {},
   "outputs": [],
   "source": [
    "dict1.clear()  # to clear the dictionary"
   ]
  },
  {
   "cell_type": "code",
   "execution_count": 47,
   "id": "f4016aa2",
   "metadata": {},
   "outputs": [
    {
     "data": {
      "text/plain": [
       "{}"
      ]
     },
     "execution_count": 47,
     "metadata": {},
     "output_type": "execute_result"
    }
   ],
   "source": [
    "dict1"
   ]
  },
  {
   "cell_type": "code",
   "execution_count": 48,
   "id": "885d1029",
   "metadata": {},
   "outputs": [],
   "source": [
    "del dict1 #to delete the dictionary"
   ]
  },
  {
   "cell_type": "code",
   "execution_count": 49,
   "id": "c5879475",
   "metadata": {},
   "outputs": [],
   "source": [
    "d2 = {'id':[1,2,3] , 'name':['rohan' , 'sohan' , 'mohan'] , 'age':[23,24,25]}"
   ]
  },
  {
   "cell_type": "code",
   "execution_count": 50,
   "id": "1a5f0469",
   "metadata": {},
   "outputs": [
    {
     "data": {
      "text/plain": [
       "{'id': [1, 2, 3], 'name': ['rohan', 'sohan', 'mohan'], 'age': [23, 24, 25]}"
      ]
     },
     "execution_count": 50,
     "metadata": {},
     "output_type": "execute_result"
    }
   ],
   "source": [
    "d2\n"
   ]
  },
  {
   "cell_type": "code",
   "execution_count": 51,
   "id": "404034a2",
   "metadata": {},
   "outputs": [
    {
     "data": {
      "text/plain": [
       "dict_keys(['id', 'name', 'age'])"
      ]
     },
     "execution_count": 51,
     "metadata": {},
     "output_type": "execute_result"
    }
   ],
   "source": [
    "d2.keys()"
   ]
  },
  {
   "cell_type": "code",
   "execution_count": 52,
   "id": "1b9401da",
   "metadata": {},
   "outputs": [
    {
     "data": {
      "text/plain": [
       "dict_values([[1, 2, 3], ['rohan', 'sohan', 'mohan'], [23, 24, 25]])"
      ]
     },
     "execution_count": 52,
     "metadata": {},
     "output_type": "execute_result"
    }
   ],
   "source": [
    "d2.values()"
   ]
  },
  {
   "cell_type": "code",
   "execution_count": 53,
   "id": "212daae6",
   "metadata": {},
   "outputs": [
    {
     "data": {
      "text/plain": [
       "dict_items([('id', [1, 2, 3]), ('name', ['rohan', 'sohan', 'mohan']), ('age', [23, 24, 25])])"
      ]
     },
     "execution_count": 53,
     "metadata": {},
     "output_type": "execute_result"
    }
   ],
   "source": [
    "d2.items()"
   ]
  },
  {
   "cell_type": "code",
   "execution_count": 54,
   "id": "f1cf69ef",
   "metadata": {},
   "outputs": [
    {
     "data": {
      "text/plain": [
       "[1, 2, 3]"
      ]
     },
     "execution_count": 54,
     "metadata": {},
     "output_type": "execute_result"
    }
   ],
   "source": [
    "d2['id']"
   ]
  },
  {
   "cell_type": "code",
   "execution_count": 55,
   "id": "1d1d4b0c",
   "metadata": {},
   "outputs": [
    {
     "data": {
      "text/plain": [
       "['rohan', 'sohan', 'mohan']"
      ]
     },
     "execution_count": 55,
     "metadata": {},
     "output_type": "execute_result"
    }
   ],
   "source": [
    "d2['name']"
   ]
  },
  {
   "cell_type": "code",
   "execution_count": 56,
   "id": "c69078f6",
   "metadata": {},
   "outputs": [
    {
     "data": {
      "text/plain": [
       "[23, 24, 25]"
      ]
     },
     "execution_count": 56,
     "metadata": {},
     "output_type": "execute_result"
    }
   ],
   "source": [
    "d2['age']"
   ]
  },
  {
   "cell_type": "code",
   "execution_count": 58,
   "id": "c3765124",
   "metadata": {},
   "outputs": [
    {
     "data": {
      "text/plain": [
       "23"
      ]
     },
     "execution_count": 58,
     "metadata": {},
     "output_type": "execute_result"
    }
   ],
   "source": [
    "d2['age'][0] # to find the index value of particular key"
   ]
  },
  {
   "cell_type": "code",
   "execution_count": 60,
   "id": "acc12584",
   "metadata": {},
   "outputs": [
    {
     "data": {
      "text/plain": [
       "'sohan'"
      ]
     },
     "execution_count": 60,
     "metadata": {},
     "output_type": "execute_result"
    }
   ],
   "source": [
    "d2['name'][1]"
   ]
  },
  {
   "cell_type": "code",
   "execution_count": 61,
   "id": "442c37cb",
   "metadata": {},
   "outputs": [],
   "source": [
    "#we can also chnage the values "
   ]
  },
  {
   "cell_type": "code",
   "execution_count": 62,
   "id": "9bc11ceb",
   "metadata": {},
   "outputs": [],
   "source": [
    "d2['name'][1] = 'jack'"
   ]
  },
  {
   "cell_type": "code",
   "execution_count": 63,
   "id": "712e832f",
   "metadata": {},
   "outputs": [
    {
     "data": {
      "text/plain": [
       "{'id': [1, 2, 3], 'name': ['rohan', 'jack', 'mohan'], 'age': [23, 24, 25]}"
      ]
     },
     "execution_count": 63,
     "metadata": {},
     "output_type": "execute_result"
    }
   ],
   "source": [
    "d2"
   ]
  },
  {
   "cell_type": "code",
   "execution_count": 64,
   "id": "c37ecafc",
   "metadata": {},
   "outputs": [],
   "source": [
    " d3 = {1:['red' , 'green' , 'orange'], 2:['apple' , 'mango' , 'banana'] }"
   ]
  },
  {
   "cell_type": "code",
   "execution_count": 66,
   "id": "c16ec1b4",
   "metadata": {},
   "outputs": [
    {
     "data": {
      "text/plain": [
       "dict_keys([1, 2])"
      ]
     },
     "execution_count": 66,
     "metadata": {},
     "output_type": "execute_result"
    }
   ],
   "source": [
    "d3.keys()"
   ]
  },
  {
   "cell_type": "code",
   "execution_count": 67,
   "id": "e12a1d04",
   "metadata": {},
   "outputs": [
    {
     "data": {
      "text/plain": [
       "dict_values([['red', 'green', 'orange'], ['apple', 'mango', 'banana']])"
      ]
     },
     "execution_count": 67,
     "metadata": {},
     "output_type": "execute_result"
    }
   ],
   "source": [
    "d3.values()"
   ]
  },
  {
   "cell_type": "code",
   "execution_count": 69,
   "id": "9dd81c68",
   "metadata": {},
   "outputs": [
    {
     "data": {
      "text/plain": [
       "['red', 'green', 'orange']"
      ]
     },
     "execution_count": 69,
     "metadata": {},
     "output_type": "execute_result"
    }
   ],
   "source": [
    "d3.pop(1)"
   ]
  },
  {
   "cell_type": "code",
   "execution_count": 70,
   "id": "01119d4c",
   "metadata": {},
   "outputs": [
    {
     "data": {
      "text/plain": [
       "{2: ['apple', 'mango', 'banana']}"
      ]
     },
     "execution_count": 70,
     "metadata": {},
     "output_type": "execute_result"
    }
   ],
   "source": [
    "d3"
   ]
  },
  {
   "cell_type": "code",
   "execution_count": 72,
   "id": "493ba674",
   "metadata": {},
   "outputs": [
    {
     "data": {
      "text/plain": [
       "['apple', 'mango', 'banana']"
      ]
     },
     "execution_count": 72,
     "metadata": {},
     "output_type": "execute_result"
    }
   ],
   "source": [
    "d3.pop(2)"
   ]
  },
  {
   "cell_type": "code",
   "execution_count": 73,
   "id": "f5d0b7ee",
   "metadata": {},
   "outputs": [
    {
     "data": {
      "text/plain": [
       "{}"
      ]
     },
     "execution_count": 73,
     "metadata": {},
     "output_type": "execute_result"
    }
   ],
   "source": [
    "d3\n"
   ]
  },
  {
   "cell_type": "code",
   "execution_count": 74,
   "id": "8a61cdea",
   "metadata": {},
   "outputs": [],
   "source": [
    "del d3\n"
   ]
  },
  {
   "cell_type": "markdown",
   "id": "d3dbb5f6",
   "metadata": {},
   "source": [
    "# Sets"
   ]
  },
  {
   "cell_type": "code",
   "execution_count": 75,
   "id": "c73e9fa9",
   "metadata": {},
   "outputs": [],
   "source": [
    "#unordered collection of items \n",
    "# immutable \n",
    "# duplicates not allowd"
   ]
  },
  {
   "cell_type": "code",
   "execution_count": 76,
   "id": "2a9699ae",
   "metadata": {},
   "outputs": [],
   "source": [
    "myset = {23,12,12,23,24,24,55,34,334,5,23,12,17,19}\n",
    "    "
   ]
  },
  {
   "cell_type": "code",
   "execution_count": 77,
   "id": "7a6980c9",
   "metadata": {},
   "outputs": [
    {
     "data": {
      "text/plain": [
       "{5, 12, 17, 19, 23, 24, 34, 55, 334}"
      ]
     },
     "execution_count": 77,
     "metadata": {},
     "output_type": "execute_result"
    }
   ],
   "source": [
    "myset  # no duplicates value are allowed"
   ]
  },
  {
   "cell_type": "code",
   "execution_count": 78,
   "id": "ee5fc3c8",
   "metadata": {},
   "outputs": [
    {
     "ename": "TypeError",
     "evalue": "'set' object is not subscriptable",
     "output_type": "error",
     "traceback": [
      "\u001b[1;31m---------------------------------------------------------------------------\u001b[0m",
      "\u001b[1;31mTypeError\u001b[0m                                 Traceback (most recent call last)",
      "\u001b[1;32m~\\AppData\\Local\\Temp\\ipykernel_8232\\136987509.py\u001b[0m in \u001b[0;36m<module>\u001b[1;34m\u001b[0m\n\u001b[1;32m----> 1\u001b[1;33m \u001b[0mmyset\u001b[0m\u001b[1;33m[\u001b[0m\u001b[1;36m2\u001b[0m\u001b[1;33m]\u001b[0m\u001b[1;33m\u001b[0m\u001b[1;33m\u001b[0m\u001b[0m\n\u001b[0m",
      "\u001b[1;31mTypeError\u001b[0m: 'set' object is not subscriptable"
     ]
    }
   ],
   "source": [
    "myset[2]  # set doesn't support indexing "
   ]
  },
  {
   "cell_type": "code",
   "execution_count": 79,
   "id": "62d02bb8",
   "metadata": {},
   "outputs": [
    {
     "ename": "TypeError",
     "evalue": "'set' object does not support item assignment",
     "output_type": "error",
     "traceback": [
      "\u001b[1;31m---------------------------------------------------------------------------\u001b[0m",
      "\u001b[1;31mTypeError\u001b[0m                                 Traceback (most recent call last)",
      "\u001b[1;32m~\\AppData\\Local\\Temp\\ipykernel_8232\\151081896.py\u001b[0m in \u001b[0;36m<module>\u001b[1;34m\u001b[0m\n\u001b[1;32m----> 1\u001b[1;33m \u001b[0mmyset\u001b[0m\u001b[1;33m[\u001b[0m\u001b[1;36m4\u001b[0m\u001b[1;33m]\u001b[0m \u001b[1;33m=\u001b[0m \u001b[1;36m3\u001b[0m\u001b[1;33m\u001b[0m\u001b[1;33m\u001b[0m\u001b[0m\n\u001b[0m",
      "\u001b[1;31mTypeError\u001b[0m: 'set' object does not support item assignment"
     ]
    }
   ],
   "source": [
    "myset[4] = 3 # this doesn't support assigning"
   ]
  },
  {
   "cell_type": "code",
   "execution_count": 80,
   "id": "8daa03cb",
   "metadata": {},
   "outputs": [
    {
     "data": {
      "text/plain": [
       "{5, 12, 17, 19, 23, 24, 34, 55, 334}"
      ]
     },
     "execution_count": 80,
     "metadata": {},
     "output_type": "execute_result"
    }
   ],
   "source": [
    "myset"
   ]
  },
  {
   "cell_type": "code",
   "execution_count": 81,
   "id": "473b43bb",
   "metadata": {},
   "outputs": [
    {
     "data": {
      "text/plain": [
       "34"
      ]
     },
     "execution_count": 81,
     "metadata": {},
     "output_type": "execute_result"
    }
   ],
   "source": [
    "myset.pop() # here it deletes randomly data becuase it doen't hold any index calue"
   ]
  },
  {
   "cell_type": "code",
   "execution_count": 82,
   "id": "b09480b5",
   "metadata": {},
   "outputs": [],
   "source": [
    "myset.remove(19) # it will remove the particular data "
   ]
  },
  {
   "cell_type": "code",
   "execution_count": 83,
   "id": "b2150942",
   "metadata": {},
   "outputs": [
    {
     "data": {
      "text/plain": [
       "{5, 12, 17, 23, 24, 55, 334}"
      ]
     },
     "execution_count": 83,
     "metadata": {},
     "output_type": "execute_result"
    }
   ],
   "source": [
    "myset"
   ]
  },
  {
   "cell_type": "code",
   "execution_count": 84,
   "id": "da4608c0",
   "metadata": {},
   "outputs": [],
   "source": [
    "myset.clear()"
   ]
  },
  {
   "cell_type": "code",
   "execution_count": 85,
   "id": "5efb6876",
   "metadata": {},
   "outputs": [],
   "source": [
    "del myset"
   ]
  },
  {
   "cell_type": "code",
   "execution_count": 86,
   "id": "c5447fda",
   "metadata": {},
   "outputs": [
    {
     "ename": "NameError",
     "evalue": "name 'myset' is not defined",
     "output_type": "error",
     "traceback": [
      "\u001b[1;31m---------------------------------------------------------------------------\u001b[0m",
      "\u001b[1;31mNameError\u001b[0m                                 Traceback (most recent call last)",
      "\u001b[1;32m~\\AppData\\Local\\Temp\\ipykernel_8232\\3586822976.py\u001b[0m in \u001b[0;36m<module>\u001b[1;34m\u001b[0m\n\u001b[1;32m----> 1\u001b[1;33m \u001b[0mmyset\u001b[0m\u001b[1;33m\u001b[0m\u001b[1;33m\u001b[0m\u001b[0m\n\u001b[0m",
      "\u001b[1;31mNameError\u001b[0m: name 'myset' is not defined"
     ]
    }
   ],
   "source": [
    "myset"
   ]
  },
  {
   "cell_type": "code",
   "execution_count": 87,
   "id": "713a7443",
   "metadata": {},
   "outputs": [],
   "source": [
    "set2 = {'tuesday' , 'wednesday' , 'thursday' , 'friday' , 'saturday'}"
   ]
  },
  {
   "cell_type": "code",
   "execution_count": 89,
   "id": "7c383c54",
   "metadata": {},
   "outputs": [
    {
     "data": {
      "text/plain": [
       "{'friday', 'saturday', 'thursday', 'tuesday', 'wednesday'}"
      ]
     },
     "execution_count": 89,
     "metadata": {},
     "output_type": "execute_result"
    }
   ],
   "source": [
    "set2  #take and placed in  ascending order"
   ]
  },
  {
   "cell_type": "code",
   "execution_count": 90,
   "id": "397742f2",
   "metadata": {},
   "outputs": [
    {
     "ename": "TypeError",
     "evalue": "'set' object is not subscriptable",
     "output_type": "error",
     "traceback": [
      "\u001b[1;31m---------------------------------------------------------------------------\u001b[0m",
      "\u001b[1;31mTypeError\u001b[0m                                 Traceback (most recent call last)",
      "\u001b[1;32m~\\AppData\\Local\\Temp\\ipykernel_8232\\429663888.py\u001b[0m in \u001b[0;36m<module>\u001b[1;34m\u001b[0m\n\u001b[1;32m----> 1\u001b[1;33m \u001b[0mset2\u001b[0m\u001b[1;33m[\u001b[0m\u001b[1;36m3\u001b[0m\u001b[1;33m]\u001b[0m\u001b[1;33m\u001b[0m\u001b[1;33m\u001b[0m\u001b[0m\n\u001b[0m",
      "\u001b[1;31mTypeError\u001b[0m: 'set' object is not subscriptable"
     ]
    }
   ],
   "source": [
    "set2[3]"
   ]
  },
  {
   "cell_type": "code",
   "execution_count": 91,
   "id": "89823750",
   "metadata": {},
   "outputs": [],
   "source": [
    "set2.add('sunday')"
   ]
  },
  {
   "cell_type": "code",
   "execution_count": 92,
   "id": "35f4b630",
   "metadata": {},
   "outputs": [
    {
     "data": {
      "text/plain": [
       "{'friday', 'saturday', 'sunday', 'thursday', 'tuesday', 'wednesday'}"
      ]
     },
     "execution_count": 92,
     "metadata": {},
     "output_type": "execute_result"
    }
   ],
   "source": [
    "set2"
   ]
  },
  {
   "cell_type": "code",
   "execution_count": 93,
   "id": "6c5e8f9a",
   "metadata": {},
   "outputs": [
    {
     "ename": "TypeError",
     "evalue": "set.pop() takes no arguments (1 given)",
     "output_type": "error",
     "traceback": [
      "\u001b[1;31m---------------------------------------------------------------------------\u001b[0m",
      "\u001b[1;31mTypeError\u001b[0m                                 Traceback (most recent call last)",
      "\u001b[1;32m~\\AppData\\Local\\Temp\\ipykernel_8232\\881141814.py\u001b[0m in \u001b[0;36m<module>\u001b[1;34m\u001b[0m\n\u001b[1;32m----> 1\u001b[1;33m \u001b[0mset2\u001b[0m\u001b[1;33m.\u001b[0m\u001b[0mpop\u001b[0m\u001b[1;33m(\u001b[0m\u001b[1;36m3\u001b[0m\u001b[1;33m)\u001b[0m\u001b[1;33m\u001b[0m\u001b[1;33m\u001b[0m\u001b[0m\n\u001b[0m",
      "\u001b[1;31mTypeError\u001b[0m: set.pop() takes no arguments (1 given)"
     ]
    }
   ],
   "source": [
    "set2.pop(3)"
   ]
  },
  {
   "cell_type": "markdown",
   "id": "f64f0677",
   "metadata": {},
   "source": [
    "Another way of making a set"
   ]
  },
  {
   "cell_type": "code",
   "execution_count": 99,
   "id": "4db1b373",
   "metadata": {},
   "outputs": [],
   "source": [
    "y =set ([33,44,56,76,56])"
   ]
  },
  {
   "cell_type": "code",
   "execution_count": 100,
   "id": "1032b61c",
   "metadata": {},
   "outputs": [
    {
     "data": {
      "text/plain": [
       "{33, 44, 56, 76}"
      ]
     },
     "execution_count": 100,
     "metadata": {},
     "output_type": "execute_result"
    }
   ],
   "source": [
    "y"
   ]
  },
  {
   "cell_type": "code",
   "execution_count": 101,
   "id": "ac9f7d3b",
   "metadata": {},
   "outputs": [
    {
     "data": {
      "text/plain": [
       "set"
      ]
     },
     "execution_count": 101,
     "metadata": {},
     "output_type": "execute_result"
    }
   ],
   "source": [
    "type(y)"
   ]
  },
  {
   "cell_type": "code",
   "execution_count": 104,
   "id": "468c6b36",
   "metadata": {},
   "outputs": [
    {
     "ename": "TypeError",
     "evalue": "'set' object is not subscriptable",
     "output_type": "error",
     "traceback": [
      "\u001b[1;31m---------------------------------------------------------------------------\u001b[0m",
      "\u001b[1;31mTypeError\u001b[0m                                 Traceback (most recent call last)",
      "\u001b[1;32m~\\AppData\\Local\\Temp\\ipykernel_8232\\926962809.py\u001b[0m in \u001b[0;36m<module>\u001b[1;34m\u001b[0m\n\u001b[1;32m----> 1\u001b[1;33m \u001b[0my\u001b[0m\u001b[1;33m[\u001b[0m\u001b[1;36m0\u001b[0m\u001b[1;33m]\u001b[0m\u001b[1;33m\u001b[0m\u001b[1;33m\u001b[0m\u001b[0m\n\u001b[0m",
      "\u001b[1;31mTypeError\u001b[0m: 'set' object is not subscriptable"
     ]
    }
   ],
   "source": [
    "y[0]"
   ]
  },
  {
   "cell_type": "code",
   "execution_count": 105,
   "id": "cdf04057",
   "metadata": {},
   "outputs": [],
   "source": [
    "y.add(300)"
   ]
  },
  {
   "cell_type": "code",
   "execution_count": 106,
   "id": "b720e9c6",
   "metadata": {},
   "outputs": [
    {
     "data": {
      "text/plain": [
       "{33, 44, 56, 76, 300}"
      ]
     },
     "execution_count": 106,
     "metadata": {},
     "output_type": "execute_result"
    }
   ],
   "source": [
    "y"
   ]
  },
  {
   "cell_type": "code",
   "execution_count": 107,
   "id": "6cce292b",
   "metadata": {},
   "outputs": [],
   "source": [
    "y.remove(44)"
   ]
  },
  {
   "cell_type": "code",
   "execution_count": 108,
   "id": "d0d9c437",
   "metadata": {},
   "outputs": [
    {
     "data": {
      "text/plain": [
       "{33, 56, 76, 300}"
      ]
     },
     "execution_count": 108,
     "metadata": {},
     "output_type": "execute_result"
    }
   ],
   "source": [
    "y\n"
   ]
  },
  {
   "cell_type": "markdown",
   "id": "65629f17",
   "metadata": {},
   "source": [
    "we done with the dataset"
   ]
  },
  {
   "cell_type": "markdown",
   "id": "9e4a64f0",
   "metadata": {},
   "source": [
    "# loops in Python"
   ]
  },
  {
   "cell_type": "markdown",
   "id": "6c24b7c9",
   "metadata": {},
   "source": [
    "Basically loops are code written in python which give us continous iteration of a particular code till the condition is  met"
   ]
  },
  {
   "cell_type": "markdown",
   "id": "d165d524",
   "metadata": {},
   "source": [
    "Two types of loops in the Python \n"
   ]
  },
  {
   "cell_type": "markdown",
   "id": "17032c6a",
   "metadata": {},
   "source": [
    "For loop"
   ]
  },
  {
   "cell_type": "markdown",
   "id": "598fb4a8",
   "metadata": {},
   "source": [
    "while loop"
   ]
  },
  {
   "cell_type": "markdown",
   "id": "dd58ffea",
   "metadata": {},
   "source": [
    "syntax for while loop "
   ]
  },
  {
   "cell_type": "code",
   "execution_count": 110,
   "id": "9444731b",
   "metadata": {},
   "outputs": [],
   "source": [
    "#steps for while loop\n",
    "#initialization , j = 0  , initialization  means to start any variable with number\n",
    "#while(condition) while (j>3):\n",
    "#code                     #print(\"j!-3\")  , this is code\n",
    " \n",
    "#increament  j = j+1"
   ]
  },
  {
   "cell_type": "code",
   "execution_count": 2,
   "id": "27fc610b",
   "metadata": {},
   "outputs": [
    {
     "name": "stdout",
     "output_type": "stream",
     "text": [
      "0\n",
      "1\n",
      "2\n"
     ]
    }
   ],
   "source": [
    "#initialization \n",
    "j = 0\n",
    "while(j<3):\n",
    "    print(j)\n",
    "    j = j+1  #increment (if we will not add this increament than )"
   ]
  },
  {
   "cell_type": "code",
   "execution_count": 4,
   "id": "6b55ce3c",
   "metadata": {},
   "outputs": [
    {
     "name": "stdout",
     "output_type": "stream",
     "text": [
      "0\n",
      "1\n",
      "2\n",
      "3\n",
      "4\n"
     ]
    }
   ],
   "source": [
    "j = 0\n",
    "while j<5:\n",
    "    print(j)\n",
    "    j =j+1"
   ]
  },
  {
   "cell_type": "code",
   "execution_count": 5,
   "id": "fd71eaa0",
   "metadata": {},
   "outputs": [],
   "source": [
    "# loops are basically command which ends when condition meets"
   ]
  },
  {
   "cell_type": "code",
   "execution_count": 7,
   "id": "5319fe3a",
   "metadata": {},
   "outputs": [
    {
     "name": "stdout",
     "output_type": "stream",
     "text": [
      "0\n",
      "1\n",
      "2\n",
      "3\n",
      "4\n",
      "5\n",
      "6\n",
      "7\n",
      "8\n",
      "9\n",
      "10\n"
     ]
    }
   ],
   "source": [
    "k = 0\n",
    "while(k<=10):\n",
    "    print(k)\n",
    "    k =k+1"
   ]
  },
  {
   "cell_type": "code",
   "execution_count": 8,
   "id": "5517bc6f",
   "metadata": {},
   "outputs": [
    {
     "name": "stdout",
     "output_type": "stream",
     "text": [
      "k= 0\n",
      "k= 1\n",
      "k= 2\n",
      "k= 3\n",
      "k= 4\n",
      "k= 5\n",
      "k= 6\n",
      "k= 7\n",
      "k= 8\n",
      "k= 9\n",
      "k= 10\n",
      "k= 11\n",
      "k= 12\n"
     ]
    }
   ],
   "source": [
    "k =0\n",
    "while(k<=12):\n",
    "    print(\"k=\" , k)\n",
    "    k = k+1"
   ]
  },
  {
   "cell_type": "code",
   "execution_count": 10,
   "id": "b2988148",
   "metadata": {},
   "outputs": [
    {
     "name": "stdout",
     "output_type": "stream",
     "text": [
      "p= 0\n",
      "p= 1\n",
      "p= 2\n",
      "p= 3\n",
      "p= 4\n",
      "p= 5\n",
      "p= 6\n",
      "p= 7\n",
      "loop end\n"
     ]
    }
   ],
   "source": [
    "p =0\n",
    "while(p<=7):\n",
    "    print(\"p=\" , p)\n",
    "    p = p+1\n",
    "    \n",
    "print(\"loop end\")    #this statement is not a part of while loop"
   ]
  },
  {
   "cell_type": "code",
   "execution_count": 11,
   "id": "b450cd13",
   "metadata": {},
   "outputs": [
    {
     "name": "stdout",
     "output_type": "stream",
     "text": [
      "p= 0\n",
      "loop end\n",
      "p= 1\n",
      "loop end\n",
      "p= 2\n",
      "loop end\n",
      "p= 3\n",
      "loop end\n",
      "p= 4\n",
      "loop end\n",
      "p= 5\n",
      "loop end\n",
      "p= 6\n",
      "loop end\n",
      "p= 7\n",
      "loop end\n"
     ]
    }
   ],
   "source": [
    "p =0\n",
    "while(p<=7):\n",
    "    print(\"p=\" , p)\n",
    "    p = p+1\n",
    "    print(\"loop end\") #now it is part of loop end "
   ]
  },
  {
   "cell_type": "code",
   "execution_count": 12,
   "id": "396925bf",
   "metadata": {},
   "outputs": [
    {
     "name": "stdout",
     "output_type": "stream",
     "text": [
      "inside loop\n",
      "p= 0\n",
      "inside loop\n",
      "p= 1\n",
      "inside loop\n",
      "p= 2\n",
      "inside loop\n",
      "p= 3\n",
      "inside loop\n",
      "p= 4\n",
      "inside loop\n",
      "p= 5\n",
      "inside loop\n",
      "p= 6\n",
      "inside loop\n",
      "p= 7\n",
      "loops end \n"
     ]
    }
   ],
   "source": [
    "p =0\n",
    "while(p<=7):\n",
    "    print(\"inside loop\")\n",
    "    print(\"p=\" , p)\n",
    "    p = p+1\n",
    "    \n",
    "print(\"loops end \")    "
   ]
  },
  {
   "cell_type": "code",
   "execution_count": 13,
   "id": "df93ed92",
   "metadata": {},
   "outputs": [
    {
     "name": "stdout",
     "output_type": "stream",
     "text": [
      "d= 0\n",
      "d= 1\n",
      "d= 2\n",
      "d= 3\n",
      "d= 4\n",
      "d= 5\n",
      "d= 6\n",
      "d= 7\n",
      "d= 8\n",
      "d= 9\n",
      "d= 10\n",
      "data god\n"
     ]
    }
   ],
   "source": [
    "d = 0\n",
    "while d<11:\n",
    "    print('d=' , d)\n",
    "    d = d+1\n",
    "print(\"data god\")    \n",
    "    "
   ]
  },
  {
   "cell_type": "code",
   "execution_count": 14,
   "id": "f629c083",
   "metadata": {},
   "outputs": [
    {
     "name": "stdout",
     "output_type": "stream",
     "text": [
      "d= 2\n",
      "d= 3\n",
      "d= 4\n",
      "the end \n"
     ]
    }
   ],
   "source": [
    "d=2\n",
    "while(d<5):\n",
    "    print('d=' , d)\n",
    "    d = d+1\n",
    "print(\"the end \")    "
   ]
  },
  {
   "cell_type": "code",
   "execution_count": 15,
   "id": "eba94da6",
   "metadata": {},
   "outputs": [
    {
     "name": "stdout",
     "output_type": "stream",
     "text": [
      "p= 5\n",
      "p= 10\n",
      "p= 15\n",
      "p= 20\n",
      "p= 25\n",
      "p= 30\n",
      "p= 35\n",
      "p= 40\n",
      "p= 45\n"
     ]
    }
   ],
   "source": [
    "p=5\n",
    "while p<50:\n",
    "    print(\"p=\" , p)\n",
    "    p = p+5"
   ]
  },
  {
   "cell_type": "code",
   "execution_count": 16,
   "id": "786783c3",
   "metadata": {},
   "outputs": [
    {
     "name": "stdout",
     "output_type": "stream",
     "text": [
      "p= 5\n",
      "p= 10\n",
      "p= 15\n",
      "p= 20\n",
      "p= 25\n",
      "p= 30\n",
      "p= 35\n",
      "p= 40\n",
      "p= 45\n",
      "p= 50\n"
     ]
    }
   ],
   "source": [
    "p=5\n",
    "while p<=50:\n",
    "    print(\"p=\" , p)\n",
    "    p = p+5"
   ]
  },
  {
   "cell_type": "code",
   "execution_count": null,
   "id": "da31f511",
   "metadata": {},
   "outputs": [],
   "source": []
  }
 ],
 "metadata": {
  "kernelspec": {
   "display_name": "Python 3 (ipykernel)",
   "language": "python",
   "name": "python3"
  },
  "language_info": {
   "codemirror_mode": {
    "name": "ipython",
    "version": 3
   },
   "file_extension": ".py",
   "mimetype": "text/x-python",
   "name": "python",
   "nbconvert_exporter": "python",
   "pygments_lexer": "ipython3",
   "version": "3.9.13"
  }
 },
 "nbformat": 4,
 "nbformat_minor": 5
}
